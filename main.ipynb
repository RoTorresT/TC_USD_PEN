{
  "nbformat": 4,
  "nbformat_minor": 0,
  "metadata": {
    "colab": {
      "name": "Untitled113.ipynb",
      "provenance": [],
      "collapsed_sections": []
    },
    "kernelspec": {
      "name": "python3",
      "display_name": "Python 3"
    },
    "language_info": {
      "name": "python"
    }
  },
  "cells": [
    {
      "cell_type": "code",
      "metadata": {
        "id": "BYIdgaTxVHXw"
      },
      "source": [
        "from tqdm import tqdm\n",
        "from bs4 import BeautifulSoup\n",
        "from datetime import datetime, timedelta\n",
        "import pandas as pd\n",
        "from selenium import webdriver\n",
        "import os\n",
        "import re\n",
        "import json"
      ],
      "execution_count": 360,
      "outputs": []
    },
    {
      "cell_type": "code",
      "metadata": {
        "id": "J_KxV4-5Vqpx"
      },
      "source": [
        "options = webdriver.ChromeOptions()\n",
        "options.add_argument('--headless')\n",
        "options.add_argument('--no-sandbox')\n",
        "options.add_argument('--disable-dev-shm-usage')"
      ],
      "execution_count": 5,
      "outputs": []
    },
    {
      "cell_type": "code",
      "metadata": {
        "colab": {
          "base_uri": "https://localhost:8080/"
        },
        "id": "duc2aAB0VttB",
        "outputId": "03b7f06c-9bb1-4b11-adb5-761627cb411b"
      },
      "source": [
        "wd = webdriver.Chrome('chromedriver',options=options)\n",
        "\n",
        "# open it, go to a website, and get results\n",
        "\n",
        "date = datetime.now()-timedelta(hours = 5)\n",
        "\n",
        "wd.get('https://cuantoestaeldolar.pe')\n",
        "page_source = wd.page_source\n",
        "wd.quit\n",
        "\n",
        "soup = BeautifulSoup(page_source, 'html.parser')\n",
        "\n",
        "#extract casas de cambio\n",
        "\n",
        "date = datetime.now()-timedelta(hours = 5)\n",
        "\n",
        "x = soup.find('div', attrs = {'class' : 'clear-fix block-online-change'})\n",
        "x = x.find_all('div', attrs = {'class' : 'wrapper-table tb_dollar'})\n",
        "\n",
        "x = [w.get_text() for w in x]\n",
        "x = [w.strip() for w in x]\n",
        "\n",
        "x = x[::2]\n",
        "x = [w.replace('\\n', '') for w in x ]\n",
        "x = [w.split('Cambiar') for w in x ]\n",
        "\n",
        "datetime_str = date.strftime(\"%Y_%m_%d-%I_%M_%S\")\n",
        "\n",
        "info_now = {}\n",
        "info_now[datetime_str] = {}\n",
        "\n",
        "for i in x:\n",
        "  info_now[datetime_str][i[0]] = {}\n",
        "  \n",
        "  compra_aux = re.findall('^\\d.\\d?\\d?\\d?\\d', i[1])\n",
        "  info_now[datetime_str][i[0]][\"compra\"] = float(compra_aux[0])\n",
        "\n",
        "  venta_aux = re.findall('\\d.\\d?\\d?\\d?\\d?\\d$', i[1])\n",
        "  info_now[datetime_str][i[0]][\"venta\"] = float(venta_aux[0])\n",
        "\n",
        "if os.path.exists('r/r.json'):\n",
        "\n",
        "  with open('r/r.json', 'r') as f:\n",
        "    loaded_data = json.load(f)\n",
        "\n",
        "  loaded_data.update(info_now)\n",
        "\n",
        "  with open('r/r.json', 'w') as f:\n",
        "    json.dump(loaded_data, f)\n",
        "\n",
        "  print('ga1')\n",
        "\n",
        "\n",
        "else:\n",
        "  os.mkdir('r/')\n",
        "  with open('r/r.json', 'w') as f:\n",
        "    json.dump(info_now, f)\n",
        "\n",
        "  print('ga')"
      ],
      "execution_count": 401,
      "outputs": [
        {
          "output_type": "stream",
          "text": [
            "ga1\n"
          ],
          "name": "stdout"
        }
      ]
    }
  ]
}
